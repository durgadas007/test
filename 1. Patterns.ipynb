{
 "cells": [
  {
   "cell_type": "markdown",
   "metadata": {},
   "source": [
    "Pattern"
   ]
  },
  {
   "cell_type": "markdown",
   "metadata": {},
   "source": [
    "Rules:\n",
    "1. No of Lines = No of rows i.e no of times the outer loop will run.\n",
    "2. Identify for every row number how many columns are there and the types of elements in column. ie relation between rows and columns.\n",
    "3. What do you need to print.\n",
    "* Note : Try to find the formula relating row and column.\n",
    " "
   ]
  },
  {
   "cell_type": "markdown",
   "metadata": {},
   "source": [
    "1.  *\n",
    "    **\n",
    "    ***\n",
    "    ****\n",
    "    *****"
   ]
  },
  {
   "cell_type": "code",
   "execution_count": 33,
   "metadata": {},
   "outputs": [
    {
     "name": "stdout",
     "output_type": "stream",
     "text": [
      "* \n",
      "* * \n",
      "* * * \n",
      "* * * * \n",
      "* * * * * \n"
     ]
    }
   ],
   "source": [
    "#row=1, col=1\n",
    "#row=2, col=2\n",
    "#row=3, col=3\n",
    "#row=5, col=5\n",
    "\n",
    "n=5\n",
    "for row in range(1,n+1):\n",
    "    for col in range(1,row+1):\n",
    "        print(\"* \",end=\"\")\n",
    "    print(\"\\n\",end=\"\")\n"
   ]
  },
  {
   "cell_type": "markdown",
   "metadata": {},
   "source": [
    "2.  *****\n",
    "    *****\n",
    "    *****\n",
    "    *****\n",
    "    *****\n",
    "    "
   ]
  },
  {
   "cell_type": "code",
   "execution_count": 34,
   "metadata": {},
   "outputs": [
    {
     "name": "stdout",
     "output_type": "stream",
     "text": [
      "* * * * * \n",
      "* * * * * \n",
      "* * * * * \n",
      "* * * * * \n",
      "* * * * * \n"
     ]
    }
   ],
   "source": [
    "#row=5, col=5\n",
    "#row=5, col=5\n",
    "#row=5, col=5\n",
    "#row=5, col=5\n",
    "\n",
    "for row in range(1,n+1):\n",
    "    for col in range(1,n+1):\n",
    "        print(\"* \",end=\"\")\n",
    "    print(\"\\n\",end=\"\")"
   ]
  },
  {
   "cell_type": "markdown",
   "metadata": {},
   "source": [
    "3.  *****\n",
    "    ****\n",
    "    ***\n",
    "    **\n",
    "    *"
   ]
  },
  {
   "cell_type": "code",
   "execution_count": 38,
   "metadata": {},
   "outputs": [
    {
     "name": "stdout",
     "output_type": "stream",
     "text": [
      "* * * * * \n",
      "* * * * \n",
      "* * * \n",
      "* * \n",
      "* \n"
     ]
    }
   ],
   "source": [
    "#row=1, col=5\n",
    "#row=2, col=4\n",
    "#row=3, col=3\n",
    "#row=5, col=1\n",
    "\n",
    "for row in range(1,n+1):\n",
    "    for col in range(1,n-row+1+1):\n",
    "        print(\"* \",end=\"\")\n",
    "    print(\"\\n\",end=\"\")"
   ]
  },
  {
   "cell_type": "markdown",
   "metadata": {},
   "source": [
    "4.  1\n",
    "    1 2\n",
    "    1 2 3\n",
    "    1 2 3 4\n",
    "    1 2 3 4 5\n",
    "    "
   ]
  },
  {
   "cell_type": "code",
   "execution_count": 30,
   "metadata": {},
   "outputs": [
    {
     "name": "stdout",
     "output_type": "stream",
     "text": [
      "1 \n",
      "1 2 \n",
      "1 2 3 \n",
      "1 2 3 4 \n",
      "1 2 3 4 5 \n"
     ]
    }
   ],
   "source": [
    "#row=1, col=1\n",
    "#row=2, col=2\n",
    "#row=3, col=3\n",
    "#row=5, col=5\n",
    "\n",
    "for row in range(1,n+1):\n",
    "    for col in range(1,row+1):\n",
    "        print(col,\"\",end = \"\")\n",
    "    print(\"\\n\",end=\"\")"
   ]
  },
  {
   "cell_type": "markdown",
   "metadata": {},
   "source": [
    "5.  *\n",
    "    **\n",
    "    ***\n",
    "    ****\n",
    "    *****\n",
    "    ****\n",
    "    ***\n",
    "    **\n",
    "    *"
   ]
  },
  {
   "cell_type": "code",
   "execution_count": null,
   "metadata": {},
   "outputs": [],
   "source": [
    "#n=5\n",
    "#row=1,col=1\n",
    "#row=2,col=2\n",
    "#row=5,col=5\n",
    "#row=6,col=4\n",
    "#row=7,col=3\n",
    "#row=9,col=1\n",
    "#Formula: \n",
    "    #if row < n then col = row\n",
    "    #else col=2*n-row\n",
    "\n",
    "for row in range(0,2*n):\n",
    "    for col in ()\n"
   ]
  }
 ],
 "metadata": {
  "kernelspec": {
   "display_name": "Python 3.8.10 64-bit",
   "language": "python",
   "name": "python3"
  },
  "language_info": {
   "codemirror_mode": {
    "name": "ipython",
    "version": 3
   },
   "file_extension": ".py",
   "mimetype": "text/x-python",
   "name": "python",
   "nbconvert_exporter": "python",
   "pygments_lexer": "ipython3",
   "version": "3.8.10"
  },
  "orig_nbformat": 4,
  "vscode": {
   "interpreter": {
    "hash": "31f2aee4e71d21fbe5cf8b01ff0e069b9275f58929596ceb00d14d90e3e16cd6"
   }
  }
 },
 "nbformat": 4,
 "nbformat_minor": 2
}
